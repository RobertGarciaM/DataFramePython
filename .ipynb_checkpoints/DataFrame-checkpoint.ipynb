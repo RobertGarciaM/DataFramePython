{
 "cells": [
  {
   "cell_type": "code",
   "execution_count": 3,
   "metadata": {},
   "outputs": [
    {
     "data": {
      "text/plain": [
       "0    100\n",
       "1    200\n",
       "2    300\n",
       "dtype: int64"
      ]
     },
     "execution_count": 3,
     "metadata": {},
     "output_type": "execute_result"
    }
   ],
   "source": [
    "import pandas as pd\n",
    "series_test = pd.Series([100, 200, 300])\n",
    "series_test\n"
   ]
  },
  {
   "cell_type": "code",
   "execution_count": 4,
   "metadata": {},
   "outputs": [
    {
     "data": {
      "text/plain": [
       "1999    48\n",
       "2000    65\n",
       "2001    89\n",
       "dtype: int64"
      ]
     },
     "execution_count": 4,
     "metadata": {},
     "output_type": "execute_result"
    }
   ],
   "source": [
    "series_test2 = pd.Series({1999: 48, \n",
    "                          2000: 65, \n",
    "                          2001:89})\n",
    "series_test2"
   ]
  },
  {
   "cell_type": "code",
   "execution_count": 5,
   "metadata": {},
   "outputs": [
    {
     "data": {
      "text/html": [
       "<div>\n",
       "<style scoped>\n",
       "    .dataframe tbody tr th:only-of-type {\n",
       "        vertical-align: middle;\n",
       "    }\n",
       "\n",
       "    .dataframe tbody tr th {\n",
       "        vertical-align: top;\n",
       "    }\n",
       "\n",
       "    .dataframe thead th {\n",
       "        text-align: right;\n",
       "    }\n",
       "</style>\n",
       "<table border=\"1\" class=\"dataframe\">\n",
       "  <thead>\n",
       "    <tr style=\"text-align: right;\">\n",
       "      <th></th>\n",
       "      <th>1999</th>\n",
       "      <th>2000</th>\n",
       "      <th>2001</th>\n",
       "    </tr>\n",
       "  </thead>\n",
       "  <tbody>\n",
       "    <tr>\n",
       "      <th>0</th>\n",
       "      <td>74</td>\n",
       "      <td>34</td>\n",
       "      <td>23</td>\n",
       "    </tr>\n",
       "    <tr>\n",
       "      <th>1</th>\n",
       "      <td>38</td>\n",
       "      <td>32</td>\n",
       "      <td>39</td>\n",
       "    </tr>\n",
       "    <tr>\n",
       "      <th>2</th>\n",
       "      <td>39</td>\n",
       "      <td>32</td>\n",
       "      <td>23</td>\n",
       "    </tr>\n",
       "  </tbody>\n",
       "</table>\n",
       "</div>"
      ],
      "text/plain": [
       "   1999  2000  2001\n",
       "0    74    34    23\n",
       "1    38    32    39\n",
       "2    39    32    23"
      ]
     },
     "execution_count": 5,
     "metadata": {},
     "output_type": "execute_result"
    }
   ],
   "source": [
    "frame_test = pd.DataFrame({1999: [74, 38, 39],\n",
    "                           2000: [34, 32, 32],\n",
    "                           2001: [23, 39, 23],})\n",
    "frame_test "
   ]
  },
  {
   "cell_type": "code",
   "execution_count": 6,
   "metadata": {},
   "outputs": [
    {
     "data": {
      "text/html": [
       "<div>\n",
       "<style scoped>\n",
       "    .dataframe tbody tr th:only-of-type {\n",
       "        vertical-align: middle;\n",
       "    }\n",
       "\n",
       "    .dataframe tbody tr th {\n",
       "        vertical-align: top;\n",
       "    }\n",
       "\n",
       "    .dataframe thead th {\n",
       "        text-align: right;\n",
       "    }\n",
       "</style>\n",
       "<table border=\"1\" class=\"dataframe\">\n",
       "  <thead>\n",
       "    <tr style=\"text-align: right;\">\n",
       "      <th></th>\n",
       "      <th>1999</th>\n",
       "      <th>2000</th>\n",
       "      <th>2001</th>\n",
       "    </tr>\n",
       "  </thead>\n",
       "  <tbody>\n",
       "    <tr>\n",
       "      <th>0</th>\n",
       "      <td>74</td>\n",
       "      <td>38</td>\n",
       "      <td>39</td>\n",
       "    </tr>\n",
       "    <tr>\n",
       "      <th>1</th>\n",
       "      <td>74</td>\n",
       "      <td>38</td>\n",
       "      <td>39</td>\n",
       "    </tr>\n",
       "    <tr>\n",
       "      <th>2</th>\n",
       "      <td>74</td>\n",
       "      <td>38</td>\n",
       "      <td>39</td>\n",
       "    </tr>\n",
       "  </tbody>\n",
       "</table>\n",
       "</div>"
      ],
      "text/plain": [
       "   1999  2000  2001\n",
       "0    74    38    39\n",
       "1    74    38    39\n",
       "2    74    38    39"
      ]
     },
     "execution_count": 6,
     "metadata": {},
     "output_type": "execute_result"
    }
   ],
   "source": [
    "frame_test = pd.DataFrame([[74, 38, 39],\n",
    "                          [74, 38, 39],\n",
    "                          [74, 38, 39]], columns=[1999, 2000, 2001])\n",
    "\n",
    "frame_test"
   ]
  },
  {
   "cell_type": "markdown",
   "metadata": {},
   "source": [
    "# Read Data\n"
   ]
  },
  {
   "cell_type": "code",
   "execution_count": 7,
   "metadata": {},
   "outputs": [
    {
     "data": {
      "text/html": [
       "<div>\n",
       "<style scoped>\n",
       "    .dataframe tbody tr th:only-of-type {\n",
       "        vertical-align: middle;\n",
       "    }\n",
       "\n",
       "    .dataframe tbody tr th {\n",
       "        vertical-align: top;\n",
       "    }\n",
       "\n",
       "    .dataframe thead th {\n",
       "        text-align: right;\n",
       "    }\n",
       "</style>\n",
       "<table border=\"1\" class=\"dataframe\">\n",
       "  <thead>\n",
       "    <tr style=\"text-align: right;\">\n",
       "      <th></th>\n",
       "      <th>body</th>\n",
       "      <th>title</th>\n",
       "      <th>url</th>\n",
       "    </tr>\n",
       "  </thead>\n",
       "  <tbody>\n",
       "    <tr>\n",
       "      <th>0</th>\n",
       "      <td>\\nLa procuradora Ernestina Godoy confirmó que ...</td>\n",
       "      <td>Matan a exdiputado de Tláhuac; investigan vínc...</td>\n",
       "      <td>http://www.eluniversal.com.mx/metropoli/cdmx/m...</td>\n",
       "    </tr>\n",
       "    <tr>\n",
       "      <th>1</th>\n",
       "      <td>NaN</td>\n",
       "      <td>NaN</td>\n",
       "      <td>http://www.eluniversal.com.mx/deportes/box</td>\n",
       "    </tr>\n",
       "    <tr>\n",
       "      <th>2</th>\n",
       "      <td>NaN</td>\n",
       "      <td>NaN</td>\n",
       "      <td>https://www.tangible-eluniversal.com.mx/en-ver...</td>\n",
       "    </tr>\n",
       "    <tr>\n",
       "      <th>3</th>\n",
       "      <td>\\n\\nTras el triunfo de Barbosa y la derrota de...</td>\n",
       "      <td>Puebla: un tropiezo electoral no es una derrot...</td>\n",
       "      <td>https://www.eluniversal.com.mx/articulo/maria-...</td>\n",
       "    </tr>\n",
       "    <tr>\n",
       "      <th>4</th>\n",
       "      <td>\\n\\nLa noticia de que las niñas y niños de la ...</td>\n",
       "      <td>Entre faldas y pantalones</td>\n",
       "      <td>https://www.eluniversal.com.mx/articulo/letici...</td>\n",
       "    </tr>\n",
       "    <tr>\n",
       "      <th>...</th>\n",
       "      <td>...</td>\n",
       "      <td>...</td>\n",
       "      <td>...</td>\n",
       "    </tr>\n",
       "    <tr>\n",
       "      <th>194</th>\n",
       "      <td>\\nCDMX.- Cerca de las 18:30 horas, un hombre d...</td>\n",
       "      <td>Policía auxilia a hombre de la tercera edad qu...</td>\n",
       "      <td>http://www.eluniversal.com.mx/metropoli/cdmx/p...</td>\n",
       "    </tr>\n",
       "    <tr>\n",
       "      <th>195</th>\n",
       "      <td>\\nTexto: Aída Castro SánchezDiseño web: Miguel...</td>\n",
       "      <td>Las primeras reporteras que rompieron con los ...</td>\n",
       "      <td>https://www.eluniversal.com.mx/mochilazo-en-el...</td>\n",
       "    </tr>\n",
       "    <tr>\n",
       "      <th>196</th>\n",
       "      <td>\\nTingüindín, Michoacán.- Diego Vidal Manzo, s...</td>\n",
       "      <td>Grupo armado ataca a subdirector de Seguridad ...</td>\n",
       "      <td>http://www.eluniversal.com.mx/estados/grupo-ar...</td>\n",
       "    </tr>\n",
       "    <tr>\n",
       "      <th>197</th>\n",
       "      <td>NaN</td>\n",
       "      <td>NaN</td>\n",
       "      <td>http://www.eluniversal.com.mx/nacion/seguridad</td>\n",
       "    </tr>\n",
       "    <tr>\n",
       "      <th>198</th>\n",
       "      <td>NaN</td>\n",
       "      <td>Concacaf pide al Tri priorizar la Copa Oro</td>\n",
       "      <td>http://www.eluniversal.com.mx/deportes</td>\n",
       "    </tr>\n",
       "  </tbody>\n",
       "</table>\n",
       "<p>199 rows × 3 columns</p>\n",
       "</div>"
      ],
      "text/plain": [
       "                                                  body  \\\n",
       "0    \\nLa procuradora Ernestina Godoy confirmó que ...   \n",
       "1                                                  NaN   \n",
       "2                                                  NaN   \n",
       "3    \\n\\nTras el triunfo de Barbosa y la derrota de...   \n",
       "4    \\n\\nLa noticia de que las niñas y niños de la ...   \n",
       "..                                                 ...   \n",
       "194  \\nCDMX.- Cerca de las 18:30 horas, un hombre d...   \n",
       "195  \\nTexto: Aída Castro SánchezDiseño web: Miguel...   \n",
       "196  \\nTingüindín, Michoacán.- Diego Vidal Manzo, s...   \n",
       "197                                                NaN   \n",
       "198                                                NaN   \n",
       "\n",
       "                                                 title  \\\n",
       "0    Matan a exdiputado de Tláhuac; investigan vínc...   \n",
       "1                                                  NaN   \n",
       "2                                                  NaN   \n",
       "3    Puebla: un tropiezo electoral no es una derrot...   \n",
       "4                            Entre faldas y pantalones   \n",
       "..                                                 ...   \n",
       "194  Policía auxilia a hombre de la tercera edad qu...   \n",
       "195  Las primeras reporteras que rompieron con los ...   \n",
       "196  Grupo armado ataca a subdirector de Seguridad ...   \n",
       "197                                                NaN   \n",
       "198         Concacaf pide al Tri priorizar la Copa Oro   \n",
       "\n",
       "                                                   url  \n",
       "0    http://www.eluniversal.com.mx/metropoli/cdmx/m...  \n",
       "1           http://www.eluniversal.com.mx/deportes/box  \n",
       "2    https://www.tangible-eluniversal.com.mx/en-ver...  \n",
       "3    https://www.eluniversal.com.mx/articulo/maria-...  \n",
       "4    https://www.eluniversal.com.mx/articulo/letici...  \n",
       "..                                                 ...  \n",
       "194  http://www.eluniversal.com.mx/metropoli/cdmx/p...  \n",
       "195  https://www.eluniversal.com.mx/mochilazo-en-el...  \n",
       "196  http://www.eluniversal.com.mx/estados/grupo-ar...  \n",
       "197     http://www.eluniversal.com.mx/nacion/seguridad  \n",
       "198             http://www.eluniversal.com.mx/deportes  \n",
       "\n",
       "[199 rows x 3 columns]"
      ]
     },
     "execution_count": 7,
     "metadata": {},
     "output_type": "execute_result"
    }
   ],
   "source": [
    "pd.options.display.max_rows = 10 # muestra primeros 10\n",
    "\n",
    "el_universal = pd.read_csv('eluniversal.csv')\n",
    "\n",
    "#type(el_universal)\n",
    "#el_universal.head() Muestra primeros 5\n",
    "#el_universal.tail() Muestra ultimos 5\n",
    "el_universal"
   ]
  },
  {
   "cell_type": "markdown",
   "metadata": {},
   "source": [
    "# Index and selection"
   ]
  },
  {
   "cell_type": "code",
   "execution_count": 8,
   "metadata": {},
   "outputs": [
    {
     "data": {
      "text/plain": [
       "0      Matan a exdiputado de Tláhuac; investigan vínc...\n",
       "1                                                    NaN\n",
       "2                                                    NaN\n",
       "3      Puebla: un tropiezo electoral no es una derrot...\n",
       "4                              Entre faldas y pantalones\n",
       "                             ...                        \n",
       "194    Policía auxilia a hombre de la tercera edad qu...\n",
       "195    Las primeras reporteras que rompieron con los ...\n",
       "196    Grupo armado ataca a subdirector de Seguridad ...\n",
       "197                                                  NaN\n",
       "198           Concacaf pide al Tri priorizar la Copa Oro\n",
       "Name: title, Length: 199, dtype: object"
      ]
     },
     "execution_count": 8,
     "metadata": {},
     "output_type": "execute_result"
    }
   ],
   "source": [
    "# dictionary like \n",
    "\n",
    "el_universal['title']"
   ]
  },
  {
   "cell_type": "code",
   "execution_count": 9,
   "metadata": {},
   "outputs": [
    {
     "data": {
      "text/html": [
       "<div>\n",
       "<style scoped>\n",
       "    .dataframe tbody tr th:only-of-type {\n",
       "        vertical-align: middle;\n",
       "    }\n",
       "\n",
       "    .dataframe tbody tr th {\n",
       "        vertical-align: top;\n",
       "    }\n",
       "\n",
       "    .dataframe thead th {\n",
       "        text-align: right;\n",
       "    }\n",
       "</style>\n",
       "<table border=\"1\" class=\"dataframe\">\n",
       "  <thead>\n",
       "    <tr style=\"text-align: right;\">\n",
       "      <th></th>\n",
       "      <th>title</th>\n",
       "      <th>url</th>\n",
       "    </tr>\n",
       "  </thead>\n",
       "  <tbody>\n",
       "    <tr>\n",
       "      <th>0</th>\n",
       "      <td>Matan a exdiputado de Tláhuac; investigan vínc...</td>\n",
       "      <td>http://www.eluniversal.com.mx/metropoli/cdmx/m...</td>\n",
       "    </tr>\n",
       "    <tr>\n",
       "      <th>1</th>\n",
       "      <td>NaN</td>\n",
       "      <td>http://www.eluniversal.com.mx/deportes/box</td>\n",
       "    </tr>\n",
       "    <tr>\n",
       "      <th>2</th>\n",
       "      <td>NaN</td>\n",
       "      <td>https://www.tangible-eluniversal.com.mx/en-ver...</td>\n",
       "    </tr>\n",
       "    <tr>\n",
       "      <th>3</th>\n",
       "      <td>Puebla: un tropiezo electoral no es una derrot...</td>\n",
       "      <td>https://www.eluniversal.com.mx/articulo/maria-...</td>\n",
       "    </tr>\n",
       "    <tr>\n",
       "      <th>4</th>\n",
       "      <td>Entre faldas y pantalones</td>\n",
       "      <td>https://www.eluniversal.com.mx/articulo/letici...</td>\n",
       "    </tr>\n",
       "    <tr>\n",
       "      <th>...</th>\n",
       "      <td>...</td>\n",
       "      <td>...</td>\n",
       "    </tr>\n",
       "    <tr>\n",
       "      <th>194</th>\n",
       "      <td>Policía auxilia a hombre de la tercera edad qu...</td>\n",
       "      <td>http://www.eluniversal.com.mx/metropoli/cdmx/p...</td>\n",
       "    </tr>\n",
       "    <tr>\n",
       "      <th>195</th>\n",
       "      <td>Las primeras reporteras que rompieron con los ...</td>\n",
       "      <td>https://www.eluniversal.com.mx/mochilazo-en-el...</td>\n",
       "    </tr>\n",
       "    <tr>\n",
       "      <th>196</th>\n",
       "      <td>Grupo armado ataca a subdirector de Seguridad ...</td>\n",
       "      <td>http://www.eluniversal.com.mx/estados/grupo-ar...</td>\n",
       "    </tr>\n",
       "    <tr>\n",
       "      <th>197</th>\n",
       "      <td>NaN</td>\n",
       "      <td>http://www.eluniversal.com.mx/nacion/seguridad</td>\n",
       "    </tr>\n",
       "    <tr>\n",
       "      <th>198</th>\n",
       "      <td>Concacaf pide al Tri priorizar la Copa Oro</td>\n",
       "      <td>http://www.eluniversal.com.mx/deportes</td>\n",
       "    </tr>\n",
       "  </tbody>\n",
       "</table>\n",
       "<p>199 rows × 2 columns</p>\n",
       "</div>"
      ],
      "text/plain": [
       "                                                 title  \\\n",
       "0    Matan a exdiputado de Tláhuac; investigan vínc...   \n",
       "1                                                  NaN   \n",
       "2                                                  NaN   \n",
       "3    Puebla: un tropiezo electoral no es una derrot...   \n",
       "4                            Entre faldas y pantalones   \n",
       "..                                                 ...   \n",
       "194  Policía auxilia a hombre de la tercera edad qu...   \n",
       "195  Las primeras reporteras que rompieron con los ...   \n",
       "196  Grupo armado ataca a subdirector de Seguridad ...   \n",
       "197                                                NaN   \n",
       "198         Concacaf pide al Tri priorizar la Copa Oro   \n",
       "\n",
       "                                                   url  \n",
       "0    http://www.eluniversal.com.mx/metropoli/cdmx/m...  \n",
       "1           http://www.eluniversal.com.mx/deportes/box  \n",
       "2    https://www.tangible-eluniversal.com.mx/en-ver...  \n",
       "3    https://www.eluniversal.com.mx/articulo/maria-...  \n",
       "4    https://www.eluniversal.com.mx/articulo/letici...  \n",
       "..                                                 ...  \n",
       "194  http://www.eluniversal.com.mx/metropoli/cdmx/p...  \n",
       "195  https://www.eluniversal.com.mx/mochilazo-en-el...  \n",
       "196  http://www.eluniversal.com.mx/estados/grupo-ar...  \n",
       "197     http://www.eluniversal.com.mx/nacion/seguridad  \n",
       "198             http://www.eluniversal.com.mx/deportes  \n",
       "\n",
       "[199 rows x 2 columns]"
      ]
     },
     "execution_count": 9,
     "metadata": {},
     "output_type": "execute_result"
    }
   ],
   "source": [
    "el_universal[['title', 'url']]"
   ]
  },
  {
   "cell_type": "code",
   "execution_count": 10,
   "metadata": {},
   "outputs": [
    {
     "data": {
      "text/html": [
       "<div>\n",
       "<style scoped>\n",
       "    .dataframe tbody tr th:only-of-type {\n",
       "        vertical-align: middle;\n",
       "    }\n",
       "\n",
       "    .dataframe tbody tr th {\n",
       "        vertical-align: top;\n",
       "    }\n",
       "\n",
       "    .dataframe thead th {\n",
       "        text-align: right;\n",
       "    }\n",
       "</style>\n",
       "<table border=\"1\" class=\"dataframe\">\n",
       "  <thead>\n",
       "    <tr style=\"text-align: right;\">\n",
       "      <th></th>\n",
       "      <th>body</th>\n",
       "      <th>title</th>\n",
       "      <th>url</th>\n",
       "    </tr>\n",
       "  </thead>\n",
       "  <tbody>\n",
       "    <tr>\n",
       "      <th>10</th>\n",
       "      <td>NaN</td>\n",
       "      <td>NaN</td>\n",
       "      <td>https://bit.ly/2jmdiXT</td>\n",
       "    </tr>\n",
       "    <tr>\n",
       "      <th>11</th>\n",
       "      <td>NaN</td>\n",
       "      <td>María Elena Morera</td>\n",
       "      <td>http://www.eluniversal.com.mx/autor-opinion/ar...</td>\n",
       "    </tr>\n",
       "    <tr>\n",
       "      <th>12</th>\n",
       "      <td>El año 2019 todavía es joven, pero un par de m...</td>\n",
       "      <td>NaN</td>\n",
       "      <td>https://www.elgrafico.mx/espectaculos/ellas-so...</td>\n",
       "    </tr>\n",
       "    <tr>\n",
       "      <th>13</th>\n",
       "      <td>NaN</td>\n",
       "      <td>Andrew Selee</td>\n",
       "      <td>http://www.eluniversal.com.mx/autor-opinion/ar...</td>\n",
       "    </tr>\n",
       "    <tr>\n",
       "      <th>14</th>\n",
       "      <td>La banda de rock Los Amigos Invisibles se pres...</td>\n",
       "      <td>Los Amigos Invisibles en Naucalpan: Compra tus...</td>\n",
       "      <td>http://www.unionedomex.mx/articulo/2019/06/07/...</td>\n",
       "    </tr>\n",
       "  </tbody>\n",
       "</table>\n",
       "</div>"
      ],
      "text/plain": [
       "                                                 body  \\\n",
       "10                                                NaN   \n",
       "11                                                NaN   \n",
       "12  El año 2019 todavía es joven, pero un par de m...   \n",
       "13                                                NaN   \n",
       "14  La banda de rock Los Amigos Invisibles se pres...   \n",
       "\n",
       "                                                title  \\\n",
       "10                                                NaN   \n",
       "11                                 María Elena Morera   \n",
       "12                                                NaN   \n",
       "13                                       Andrew Selee   \n",
       "14  Los Amigos Invisibles en Naucalpan: Compra tus...   \n",
       "\n",
       "                                                  url  \n",
       "10                             https://bit.ly/2jmdiXT  \n",
       "11  http://www.eluniversal.com.mx/autor-opinion/ar...  \n",
       "12  https://www.elgrafico.mx/espectaculos/ellas-so...  \n",
       "13  http://www.eluniversal.com.mx/autor-opinion/ar...  \n",
       "14  http://www.unionedomex.mx/articulo/2019/06/07/...  "
      ]
     },
     "execution_count": 10,
     "metadata": {},
     "output_type": "execute_result"
    }
   ],
   "source": [
    "# Numpy like \n",
    "\n",
    "el_universal.iloc[10:15]"
   ]
  },
  {
   "cell_type": "code",
   "execution_count": 11,
   "metadata": {},
   "outputs": [
    {
     "data": {
      "text/plain": [
       "'Naasón “ha sido víctima de complot cibernético”, dice defensa'"
      ]
     },
     "execution_count": 11,
     "metadata": {},
     "output_type": "execute_result"
    }
   ],
   "source": [
    "el_universal.iloc[66]['title']"
   ]
  },
  {
   "cell_type": "code",
   "execution_count": 12,
   "metadata": {},
   "outputs": [
    {
     "data": {
      "text/plain": [
       "0    \\nLa procuradora Ernestina Godoy confirmó que ...\n",
       "1                                                  NaN\n",
       "2                                                  NaN\n",
       "3    \\n\\nTras el triunfo de Barbosa y la derrota de...\n",
       "4    \\n\\nLa noticia de que las niñas y niños de la ...\n",
       "Name: body, dtype: object"
      ]
     },
     "execution_count": 12,
     "metadata": {},
     "output_type": "execute_result"
    }
   ],
   "source": [
    "el_universal.iloc[:5,0]"
   ]
  },
  {
   "cell_type": "code",
   "execution_count": 13,
   "metadata": {},
   "outputs": [
    {
     "data": {
      "text/html": [
       "<div>\n",
       "<style scoped>\n",
       "    .dataframe tbody tr th:only-of-type {\n",
       "        vertical-align: middle;\n",
       "    }\n",
       "\n",
       "    .dataframe tbody tr th {\n",
       "        vertical-align: top;\n",
       "    }\n",
       "\n",
       "    .dataframe thead th {\n",
       "        text-align: right;\n",
       "    }\n",
       "</style>\n",
       "<table border=\"1\" class=\"dataframe\">\n",
       "  <thead>\n",
       "    <tr style=\"text-align: right;\">\n",
       "      <th></th>\n",
       "      <th>body</th>\n",
       "      <th>title</th>\n",
       "    </tr>\n",
       "  </thead>\n",
       "  <tbody>\n",
       "    <tr>\n",
       "      <th>0</th>\n",
       "      <td>\\nLa procuradora Ernestina Godoy confirmó que ...</td>\n",
       "      <td>Matan a exdiputado de Tláhuac; investigan vínc...</td>\n",
       "    </tr>\n",
       "    <tr>\n",
       "      <th>1</th>\n",
       "      <td>NaN</td>\n",
       "      <td>NaN</td>\n",
       "    </tr>\n",
       "    <tr>\n",
       "      <th>2</th>\n",
       "      <td>NaN</td>\n",
       "      <td>NaN</td>\n",
       "    </tr>\n",
       "    <tr>\n",
       "      <th>3</th>\n",
       "      <td>\\n\\nTras el triunfo de Barbosa y la derrota de...</td>\n",
       "      <td>Puebla: un tropiezo electoral no es una derrot...</td>\n",
       "    </tr>\n",
       "    <tr>\n",
       "      <th>4</th>\n",
       "      <td>\\n\\nLa noticia de que las niñas y niños de la ...</td>\n",
       "      <td>Entre faldas y pantalones</td>\n",
       "    </tr>\n",
       "    <tr>\n",
       "      <th>...</th>\n",
       "      <td>...</td>\n",
       "      <td>...</td>\n",
       "    </tr>\n",
       "    <tr>\n",
       "      <th>194</th>\n",
       "      <td>\\nCDMX.- Cerca de las 18:30 horas, un hombre d...</td>\n",
       "      <td>Policía auxilia a hombre de la tercera edad qu...</td>\n",
       "    </tr>\n",
       "    <tr>\n",
       "      <th>195</th>\n",
       "      <td>\\nTexto: Aída Castro SánchezDiseño web: Miguel...</td>\n",
       "      <td>Las primeras reporteras que rompieron con los ...</td>\n",
       "    </tr>\n",
       "    <tr>\n",
       "      <th>196</th>\n",
       "      <td>\\nTingüindín, Michoacán.- Diego Vidal Manzo, s...</td>\n",
       "      <td>Grupo armado ataca a subdirector de Seguridad ...</td>\n",
       "    </tr>\n",
       "    <tr>\n",
       "      <th>197</th>\n",
       "      <td>NaN</td>\n",
       "      <td>NaN</td>\n",
       "    </tr>\n",
       "    <tr>\n",
       "      <th>198</th>\n",
       "      <td>NaN</td>\n",
       "      <td>Concacaf pide al Tri priorizar la Copa Oro</td>\n",
       "    </tr>\n",
       "  </tbody>\n",
       "</table>\n",
       "<p>199 rows × 2 columns</p>\n",
       "</div>"
      ],
      "text/plain": [
       "                                                  body  \\\n",
       "0    \\nLa procuradora Ernestina Godoy confirmó que ...   \n",
       "1                                                  NaN   \n",
       "2                                                  NaN   \n",
       "3    \\n\\nTras el triunfo de Barbosa y la derrota de...   \n",
       "4    \\n\\nLa noticia de que las niñas y niños de la ...   \n",
       "..                                                 ...   \n",
       "194  \\nCDMX.- Cerca de las 18:30 horas, un hombre d...   \n",
       "195  \\nTexto: Aída Castro SánchezDiseño web: Miguel...   \n",
       "196  \\nTingüindín, Michoacán.- Diego Vidal Manzo, s...   \n",
       "197                                                NaN   \n",
       "198                                                NaN   \n",
       "\n",
       "                                                 title  \n",
       "0    Matan a exdiputado de Tláhuac; investigan vínc...  \n",
       "1                                                  NaN  \n",
       "2                                                  NaN  \n",
       "3    Puebla: un tropiezo electoral no es una derrot...  \n",
       "4                            Entre faldas y pantalones  \n",
       "..                                                 ...  \n",
       "194  Policía auxilia a hombre de la tercera edad qu...  \n",
       "195  Las primeras reporteras que rompieron con los ...  \n",
       "196  Grupo armado ataca a subdirector de Seguridad ...  \n",
       "197                                                NaN  \n",
       "198         Concacaf pide al Tri priorizar la Copa Oro  \n",
       "\n",
       "[199 rows x 2 columns]"
      ]
     },
     "execution_count": 13,
     "metadata": {},
     "output_type": "execute_result"
    }
   ],
   "source": [
    "el_universal.loc[:,'body':'title']"
   ]
  },
  {
   "cell_type": "markdown",
   "metadata": {},
   "source": [
    "# Data Wrangling"
   ]
  },
  {
   "cell_type": "code",
   "execution_count": null,
   "metadata": {},
   "outputs": [],
   "source": [
    "# 1.Añadir el universal newspaper_uid al DataFrame\n",
    "\n",
    "el_universal['newspaper_uid'] = 'eluniversal'\n",
    "el_univers"
   ]
  }
 ],
 "metadata": {
  "kernelspec": {
   "display_name": "Python 3",
   "language": "python",
   "name": "python3"
  },
  "language_info": {
   "codemirror_mode": {
    "name": "ipython",
    "version": 3
   },
   "file_extension": ".py",
   "mimetype": "text/x-python",
   "name": "python",
   "nbconvert_exporter": "python",
   "pygments_lexer": "ipython3",
   "version": "3.7.3"
  }
 },
 "nbformat": 4,
 "nbformat_minor": 2
}
